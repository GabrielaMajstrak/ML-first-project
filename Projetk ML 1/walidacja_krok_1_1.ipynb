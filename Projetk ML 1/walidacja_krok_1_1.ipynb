{
 "cells": [
  {
   "cell_type": "markdown",
   "id": "730d3982",
   "metadata": {},
   "source": [
    "# Exploratory Data Analysys (EDA)\n",
    "## Costumer loans dataset\n"
   ]
  },
  {
   "cell_type": "code",
   "execution_count": null,
   "id": "0c9f5a58",
   "metadata": {},
   "outputs": [],
   "source": [
    "import pandas as pd\n",
    "import numpy as np\n",
    "from matplotlib import pyplot as plt\n",
    "import seaborn as sns"
   ]
  },
  {
   "cell_type": "code",
   "execution_count": null,
   "id": "52db307f",
   "metadata": {},
   "outputs": [],
   "source": [
    "df_valid = pd.read_csv(\"orig_valid.csv\")\n",
    "df_train = pd.read_csv(\"orig_train.csv\")"
   ]
  },
  {
   "cell_type": "code",
   "execution_count": null,
   "id": "39a3c7d5",
   "metadata": {},
   "outputs": [],
   "source": [
    "print(len(df_valid))\n",
    "print(len(df_train))"
   ]
  },
  {
   "cell_type": "code",
   "execution_count": null,
   "id": "71c7f8bb",
   "metadata": {},
   "outputs": [],
   "source": [
    "df_train.info()"
   ]
  },
  {
   "cell_type": "code",
   "execution_count": null,
   "id": "b62269d4",
   "metadata": {},
   "outputs": [],
   "source": [
    "df_train.describe()"
   ]
  },
  {
   "cell_type": "code",
   "execution_count": null,
   "id": "e978e37c",
   "metadata": {},
   "outputs": [],
   "source": [
    "df_train.head()"
   ]
  },
  {
   "cell_type": "markdown",
   "id": "98a0dcb8",
   "metadata": {},
   "source": [
    "## Dataset Description\n",
    "#### Variables in order:\n",
    "**PRODUCT** - Type of financial product the client has  \n",
    "**AGE** - age of client  \n",
    "**AREA** - The geographical area where the client resides  \n",
    "**RESIDENTAL_PLACE** -  Indicates whether the client owns their living place (with further distinction on having a mortgage or not), lives with family, or is renting  \n",
    "**EDUCATION** - The highest level of education attained by the client  \n",
    "**MARTIAL_STATUS** - Describes the client's marital status, including options such as single, married, divorced, or widowed  \n",
    "**HOUSEHOLD_MEMBERS** - The number of people living in the client's household  \n",
    "**NO_OF_DEPENDENTS** - The number of individuals financially dependent on the client  \n",
    "**INCOME** - The client's monthly income  \n",
    "**WORK_SENIORITY** - The total number of years the client has been working  \n",
    "**LENGTH_RELATIONSHIP_WITH_CLIENT**\t- The duration (in years) of the client's relationship with the bank  \n",
    "**DEBIT_CARD**- wheter clinet owns a debit card or not  \n",
    "**CURRENT_ACCOUNT** -  wheter client owns a current account  \n",
    "**SAVING_ACCOUNT** - wheter client owns a saving account  \n",
    "**SALARY_ACCOUNT** - Indicates whether the client has a salary account with the bank, designed for receiving payroll  \n",
    "**FOREIGN_ACCOUNT** -  Whether the client holds any bank accounts in foreign countries  \n",
    "**FINALIZED_LOAN** - The number of loans the client has fully repaid  \n",
    "**DEPOSIT** -   Indicates whether the client has made any fixed or term deposits with the bank  \n",
    "**PENSION_FUNDS** - Whether the client has invested in any pension funds through the bank  \n",
    "**DEFAULT_FLAG** -A binary indicator (e.g., Yes/No, 1/0) showing whether the client has defaulted on any financial obligation \n",
    "\n"
   ]
  },
  {
   "cell_type": "markdown",
   "id": "1e38ac6c",
   "metadata": {},
   "source": [
    "## Rozkłady zmiennych numerycznych"
   ]
  },
  {
   "cell_type": "code",
   "execution_count": null,
   "id": "d6dc106b",
   "metadata": {
    "scrolled": true
   },
   "outputs": [],
   "source": [
    "df_train.hist(bins = 40, figsize=(18, 12))\n",
    "df_valid.hist(bins = 40, figsize=(18, 12))\n",
    "plt.show()"
   ]
  },
  {
   "cell_type": "markdown",
   "id": "d3af3063",
   "metadata": {},
   "source": [
    "## Rozkłady zmiennych kategorycznych"
   ]
  },
  {
   "cell_type": "code",
   "execution_count": null,
   "id": "37470ed3",
   "metadata": {},
   "outputs": [],
   "source": [
    "df_strings = df_train[[\"PRODUCT\", \"AREA\", \"RESIDENTIAL_PLACE\", \"EDUCATION\", \"MARITAL_STATUS\"]]\n",
    "fig, axs = plt.subplots(nrows= 5, ncols=1, figsize=(10, 5 * 5))\n",
    "for ax, column in zip(axs, [\"PRODUCT\", \"AREA\", \"RESIDENTIAL_PLACE\", \"EDUCATION\", \"MARITAL_STATUS\"]):\n",
    "    value_counts = df_train[column].value_counts()\n",
    "    ax.bar(value_counts.index.astype(str), value_counts.values)\n",
    "    ax.set_title(column)\n",
    "    ax.set_ylabel('Counts')\n",
    "    ax.tick_params(axis='x', rotation=45)  \n",
    "\n",
    "plt.tight_layout()  \n",
    "plt.show()                         "
   ]
  },
  {
   "cell_type": "code",
   "execution_count": null,
   "id": "d3322e06",
   "metadata": {},
   "outputs": [],
   "source": [
    "elems = [\"PRODUCT\", \"AREA\", \"RESIDENTIAL_PLACE\", \"EDUCATION\", \"MARITAL_STATUS\"]\n",
    "for elem in elems:\n",
    "    print(df_train[elem].unique())\n"
   ]
  },
  {
   "cell_type": "markdown",
   "id": "5047ee5d",
   "metadata": {},
   "source": [
    "## zamiana zmiennych kategorycznych na numeryczne"
   ]
  },
  {
   "cell_type": "code",
   "execution_count": null,
   "id": "dac6fb63",
   "metadata": {
    "scrolled": true
   },
   "outputs": [],
   "source": [
    "df_train['MARITAL_STATUS'] = df_train['MARITAL_STATUS'].replace({'single': 1, 'married': 2, 'divorced': 3, 'widow': 4})\n",
    "df_train['PRODUCT'] = df_train['PRODUCT'].replace({'A': 1, 'B': 2, \"C\": 3, \"D\": 4, \"E\": 5, \"F\": 6})\n",
    "df_train['AREA'] = df_train['AREA'].replace({'County capital' : 3, 'Urban area' : 2, 'Rural area' : 1, 'Missing': 0})\n",
    "df_train[\"RESIDENTIAL_PLACE\"] = df_train['RESIDENTIAL_PLACE'].replace({'Owner without mortgage' : 4,'Living with family' : 3,'Owner with mortgage' : 2,\n",
    " 'Rental' : 1, 'Other': 0})\n",
    "df_train[\"EDUCATION\"] = df_train['EDUCATION'].replace({'University' : 9, 'Post-graduate' : 8, 'Highschool' : 7,'Missing' : 6,\n",
    " 'Post secondary school' : 5,'College' : 4,'Vocational school' : 3,'Middle school' : 2, 'Primary school' : 1, 'Other' : 0})\n",
    "df_valid['MARITAL_STATUS'] = df_valid['MARITAL_STATUS'].replace({'single': 1, 'married': 2, 'divorced': 3, 'widow': 4})\n",
    "df_valid['PRODUCT'] = df_valid['PRODUCT'].replace({'A': 1, 'B': 2, \"C\": 3, \"D\": 4, \"E\": 5, \"F\": 6})\n",
    "df_valid['AREA'] = df_valid['AREA'].replace({'County capital' : 3, 'Urban area' : 2, 'Rural area' : 1, 'Missing': 0})\n",
    "df_valid[\"RESIDENTIAL_PLACE\"] = df_valid['RESIDENTIAL_PLACE'].replace({'Owner without mortgage' : 4,'Living with family' : 3,'Owner with mortgage' : 2,\n",
    " 'Rental' : 1, 'Other': 0})\n",
    "df_valid[\"EDUCATION\"] = df_valid['EDUCATION'].replace({'University' : 9, 'Post-graduate' : 8, 'Highschool' : 7,'Missing' : 6,\n",
    " 'Post secondary school' : 5,'College' : 4,'Vocational school' : 3,'Middle school' : 2, 'Primary school' : 1, 'Other' : 0})\n",
    "\n",
    "\n",
    "df_train.head(20)\n",
    "df_train.info()"
   ]
  },
  {
   "cell_type": "markdown",
   "id": "c8ad39cf",
   "metadata": {},
   "source": [
    "## Macierz Korelacji zmiennych"
   ]
  },
  {
   "cell_type": "code",
   "execution_count": null,
   "id": "6d5ad864",
   "metadata": {},
   "outputs": [],
   "source": [
    "df_train = df_train.drop(columns = [\"PENSION_FUNDS\",\"ECONOMIC_SECTOR\",\"EMPLOYEE_NO\"])\n",
    "\n",
    "correlation_matrix = df_train.corr('spearman')\n",
    "mask = np.triu(np.ones_like(correlation_matrix, dtype=bool))\n",
    "plt.figure(figsize=(20, 20))\n",
    "sns.heatmap(correlation_matrix, mask=mask, annot=True, fmt=\".2f\", cmap='coolwarm',\n",
    "            square=True, linewidths=.5, cbar_kws={\"shrink\": .5}, vmin=-1, vmax=1)\n",
    "\n",
    "plt.show()"
   ]
  }
 ],
 "metadata": {
  "kernelspec": {
   "display_name": "Python 3 (ipykernel)",
   "language": "python",
   "name": "python3"
  },
  "language_info": {
   "codemirror_mode": {
    "name": "ipython",
    "version": 3
   },
   "file_extension": ".py",
   "mimetype": "text/x-python",
   "name": "python",
   "nbconvert_exporter": "python",
   "pygments_lexer": "ipython3",
   "version": "3.11.2"
  }
 },
 "nbformat": 4,
 "nbformat_minor": 5
}
